{
 "cells": [
  {
   "cell_type": "markdown",
   "id": "dfa3c25d",
   "metadata": {},
   "source": [
    "# Lab: One-Way ANOVA – Comparing Three Weight-Loss Interventions\n",
    "\n",
    "## Scenario  \n",
    "A wellness clinic is evaluating three interventions for weight loss over 8 weeks:\n",
    "1. **Control**: no intervention  \n",
    "2. **Diet + Exercise**  \n",
    "3. **Diet Pill**  \n",
    "\n",
    "They want to know whether the **average weight loss** differs among these three groups.  Use a one-way ANOVA to test for overall differences, then follow up with post-hoc comparisons if appropriate.\n",
    "\n",
    "---\n",
    "\n",
    "## Dataset  \n",
    "Simulate or load data with columns:\n",
    "\n",
    "| ParticipantID | Group             | WeightLoss |\n",
    "|---------------|-------------------|------------|\n",
    "| 1             | Control           | 1.8        |\n",
    "| 2             | Diet+Exercise     | 4.7        |\n",
    "| 3             | DietPill          | 5.2        |\n",
    "| …             | …                 | …          |\n",
    "\n",
    "**Python simulation example:**\n"
   ]
  },
  {
   "cell_type": "code",
   "execution_count": 5,
   "id": "d5aad321",
   "metadata": {
    "vscode": {
     "languageId": "plaintext"
    }
   },
   "outputs": [],
   "source": [
    "# Run this Code\n",
    "import numpy as np\n",
    "import pandas as pd\n",
    "\n",
    "np.random.seed(42)\n",
    "n = 30\n",
    "\n",
    "control       = np.random.normal(2.0, 1.0, n)\n",
    "diet_exercise = np.random.normal(4.5, 1.0, n)\n",
    "diet_pill     = np.random.normal(5.0, 1.0, n)\n",
    "\n",
    "df = pd.DataFrame({\n",
    "    \"Group\": [\"Control\"]*n + [\"Diet+Exercise\"]*n + [\"DietPill\"]*n,\n",
    "    \"WeightLoss\": np.concatenate([control, diet_exercise, diet_pill])\n",
    "})"
   ]
  },
  {
   "cell_type": "markdown",
   "id": "1654b077",
   "metadata": {},
   "source": [
    "---\n",
    "\n",
    "## Steps\n",
    "\n",
    "### 1. State Hypotheses & Significance Level  \n",
    "- **H₀:** \n",
    "- **H₁:** \n",
    "- **α = 0.05**\n",
    "\n",
    "---\n",
    "\n",
    "### 2. Check Assumptions  \n",
    "1. **Independence:** Participants randomly assigned.  \n",
    "2. **Normality:** Each group’s residuals approximately normal (n≥30 helps).  \n",
    "3. **Homogeneity of Variance:** Similar variances across groups (Levene’s test).\n"
   ]
  },
  {
   "cell_type": "code",
   "execution_count": 6,
   "id": "419d69a2",
   "metadata": {},
   "outputs": [
    {
     "data": {
      "text/html": [
       "<div>\n",
       "<style scoped>\n",
       "    .dataframe tbody tr th:only-of-type {\n",
       "        vertical-align: middle;\n",
       "    }\n",
       "\n",
       "    .dataframe tbody tr th {\n",
       "        vertical-align: top;\n",
       "    }\n",
       "\n",
       "    .dataframe thead th {\n",
       "        text-align: right;\n",
       "    }\n",
       "</style>\n",
       "<table border=\"1\" class=\"dataframe\">\n",
       "  <thead>\n",
       "    <tr style=\"text-align: right;\">\n",
       "      <th></th>\n",
       "      <th>mean</th>\n",
       "      <th>std</th>\n",
       "      <th>count</th>\n",
       "    </tr>\n",
       "    <tr>\n",
       "      <th>Group</th>\n",
       "      <th></th>\n",
       "      <th></th>\n",
       "      <th></th>\n",
       "    </tr>\n",
       "  </thead>\n",
       "  <tbody>\n",
       "    <tr>\n",
       "      <th>Control</th>\n",
       "      <td>1.811853</td>\n",
       "      <td>0.900006</td>\n",
       "      <td>30</td>\n",
       "    </tr>\n",
       "    <tr>\n",
       "      <th>Diet+Exercise</th>\n",
       "      <td>4.378838</td>\n",
       "      <td>0.931102</td>\n",
       "      <td>30</td>\n",
       "    </tr>\n",
       "    <tr>\n",
       "      <th>DietPill</th>\n",
       "      <td>5.012885</td>\n",
       "      <td>0.991983</td>\n",
       "      <td>30</td>\n",
       "    </tr>\n",
       "  </tbody>\n",
       "</table>\n",
       "</div>"
      ],
      "text/plain": [
       "                   mean       std  count\n",
       "Group                                   \n",
       "Control        1.811853  0.900006     30\n",
       "Diet+Exercise  4.378838  0.931102     30\n",
       "DietPill       5.012885  0.991983     30"
      ]
     },
     "execution_count": 6,
     "metadata": {},
     "output_type": "execute_result"
    }
   ],
   "source": [
    "df.groupby(\"Group\")['WeightLoss'].agg(['mean','std','count'])"
   ]
  },
  {
   "cell_type": "markdown",
   "id": "7028847e",
   "metadata": {},
   "source": [
    "\n",
    "---\n",
    "\n",
    "### 3. Compute Summary Statistics\n",
    "Computer Summary Statistics using Panda's GroupBy method:"
   ]
  },
  {
   "cell_type": "code",
   "execution_count": null,
   "id": "d84f6691",
   "metadata": {},
   "outputs": [],
   "source": [
    "# Your Code Here"
   ]
  },
  {
   "cell_type": "markdown",
   "id": "5ac26ffa",
   "metadata": {},
   "source": [
    "| Group          | count | mean | std  |\n",
    "|----------------|-------|------|------|\n",
    "| Control        | 30    | 2.05 | 1.03 |\n",
    "| Diet+Exercise  | 30    | 4.48 | 1.12 |\n",
    "| DietPill       | 30    | 5.02 | 0.95 |\n",
    "\n",
    "---\n",
    "\n",
    "### 4. Perform One-Way ANOVA\n"
   ]
  },
  {
   "cell_type": "code",
   "execution_count": null,
   "id": "b9624803-48f8-4e37-8ecc-67be36ef92f0",
   "metadata": {},
   "outputs": [],
   "source": [
    "!pip install statsmodels"
   ]
  },
  {
   "cell_type": "code",
   "execution_count": 7,
   "id": "edf3d3b7",
   "metadata": {},
   "outputs": [
    {
     "name": "stdout",
     "output_type": "stream",
     "text": [
      "            df      sum_sq    mean_sq          F        PR(>F)\n",
      "C(Group)   2.0  172.380287  86.190143  97.170646  6.720959e-23\n",
      "Residual  87.0   77.168804   0.886998        NaN           NaN\n"
     ]
    }
   ],
   "source": [
    "\n",
    "import statsmodels.api as sn\n",
    "from statsmodels.formula.api import ols\n",
    "model = ols('WeightLoss ~ C(Group)', data=df).fit()\n",
    "\n",
    "anova_table=sn.stats.anova_lm(model,type=2)\n",
    "print(anova_table)"
   ]
  },
  {
   "cell_type": "markdown",
   "id": "6cc87b81",
   "metadata": {},
   "source": [
    "**Example output:**\n",
    "\n",
    "|           | sum_sq | df | F      | PR(>F)  |\n",
    "|-----------|--------|----|--------|---------|\n",
    "| C(Group)  | 160.3  | 2  | 82.34  | <0.0001 |\n",
    "| Residual  | 105.6  | 87 |        |         |\n",
    "\n",
    "- Ex) **F** ≈ 82.34, **p** < 0.0001 → reject H₀.\n",
    "\n",
    "---\n",
    "\n",
    "### 5. Post-Hoc Tests (if ANOVA significant)\n",
    "\n",
    "Use Tukey’s HSD to see which pairs differ:\n"
   ]
  },
  {
   "cell_type": "code",
   "execution_count": 9,
   "id": "c7f2e1af",
   "metadata": {},
   "outputs": [
    {
     "name": "stdout",
     "output_type": "stream",
     "text": [
      "      Multiple Comparison of Means - Tukey HSD, FWER=0.05       \n",
      "================================================================\n",
      "    group1        group2    meandiff p-adj  lower  upper  reject\n",
      "----------------------------------------------------------------\n",
      "      Control Diet+Exercise    2.567    0.0 1.9871 3.1468   True\n",
      "      Control      DietPill    3.201    0.0 2.6212 3.7809   True\n",
      "Diet+Exercise      DietPill    0.634 0.0287 0.0542 1.2139   True\n",
      "----------------------------------------------------------------\n"
     ]
    }
   ],
   "source": [
    "from statsmodels.stats.multicomp import pairwise_tukeyhsd\n",
    "tukey= pairwise_tukeyhsd(df[\"WeightLoss\"],df[\"Group\"],alpha=0.05)\n",
    "print(tukey)"
   ]
  },
  {
   "cell_type": "markdown",
   "id": "68f47f62",
   "metadata": {},
   "source": [
    "---\n",
    "\n",
    "### 6. Interpretation & Reporting\n",
    "\n",
    "1. **ANOVA conclusion:**  \n",
    "   > “F(2,87) = 82.34, p < 0.001 → there is a significant difference in mean weight loss among the three groups.”\n",
    "\n",
    "2. **Post-hoc insights:**  \n",
    "   > “Tukey HSD shows DietPill > Diet+Exercise > Control (all pairwise p < 0.01).”\n",
    "\n",
    "3. **Business implications:**  \n",
    "   - The diet pill outperforms diet+exercise and control.  \n",
    "   - Diet+exercise is also significantly better than doing nothing.  \n",
    "   - Recommend offering the pill for maximal effect or combining interventions in future studies.\n",
    "\n",
    "---\n",
    "\n",
    "### 7. Visualization (Optional)\n"
   ]
  },
  {
   "cell_type": "code",
   "execution_count": null,
   "id": "43bc683c",
   "metadata": {},
   "outputs": [],
   "source": [
    "# Your Code Here"
   ]
  }
 ],
 "metadata": {
  "kernelspec": {
   "display_name": "Python 3 (ipykernel)",
   "language": "python",
   "name": "python3"
  },
  "language_info": {
   "codemirror_mode": {
    "name": "ipython",
    "version": 3
   },
   "file_extension": ".py",
   "mimetype": "text/x-python",
   "name": "python",
   "nbconvert_exporter": "python",
   "pygments_lexer": "ipython3",
   "version": "3.13.2"
  }
 },
 "nbformat": 4,
 "nbformat_minor": 5
}
