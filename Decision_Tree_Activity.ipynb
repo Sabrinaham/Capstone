{
 "cells": [
  {
   "cell_type": "markdown",
   "id": "862b07e0",
   "metadata": {},
   "source": [
    "# Activity: Decision Tree Modeling in Python\n",
    "\n",
    "In this lab you will build and evaluate both **Decision Tree Regression** and **Decision Tree Classification** models using scikit‑learn and built‑in datasets.\n",
    "\n",
    "---\n",
    "\n",
    "## Part 1: Decision Tree Regression  \n",
    "**Context:** A real‑estate analytics firm wants a simple model to predict median house values (in \\$100k units) from a handful of features. You’ll use the California Housing dataset.\n",
    "\n",
    "### Tasks"
   ]
  },
  {
   "cell_type": "code",
   "execution_count": null,
   "id": "00835709",
   "metadata": {},
   "outputs": [],
   "source": [
    "# 1. **Load the dataset**  \n",
    "# Your Code Here"
   ]
  },
  {
   "cell_type": "code",
   "execution_count": null,
   "id": "4b5c2a3e",
   "metadata": {},
   "outputs": [],
   "source": [
    "# 2. **Select three features** you believe are most predictive (e.g. `MedInc`, `AveRooms`, `Latitude`).\n",
    "# Your Code Here"
   ]
  },
  {
   "cell_type": "code",
   "execution_count": null,
   "id": "2e1eaa8e",
   "metadata": {},
   "outputs": [],
   "source": [
    "# 3. **Train/Test Split** (80/20)\n",
    "# Your Code Here"
   ]
  },
  {
   "cell_type": "code",
   "execution_count": null,
   "id": "edd902d4",
   "metadata": {},
   "outputs": [],
   "source": [
    "# 4. **Fit** a `DecisionTreeRegressor`\n",
    "# Your Code Here"
   ]
  },
  {
   "cell_type": "code",
   "execution_count": null,
   "id": "7b710a62",
   "metadata": {},
   "outputs": [],
   "source": [
    "\n",
    "# 5. **Predict & Evaluate** on the test set\n",
    "# Your Code Here"
   ]
  },
  {
   "cell_type": "code",
   "execution_count": null,
   "id": "e990c559",
   "metadata": {},
   "outputs": [],
   "source": [
    "# 6. **Visualize the Tree** (textual or plot)\n",
    "# Your Code Here"
   ]
  },
  {
   "cell_type": "markdown",
   "id": "3c68135c",
   "metadata": {},
   "source": [
    "### Interpretation Questions\n",
    "\n",
    "* Which features appear highest in the tree (most important)?\n",
    "* Does the tree overfit when you grow it deeper? How can you tell?\n",
    "* How does its performance compare to a linear model you tried earlier?\n",
    "\n",
    "---\n",
    "\n",
    "## Part 2: Decision Tree Classification\n",
    "\n",
    "**Context:** A maritime safety team wants an interpretable model to predict passenger survival on the Titanic using simple demographics.\n",
    "\n",
    "### Tasks"
   ]
  },
  {
   "cell_type": "code",
   "execution_count": null,
   "id": "faf33057",
   "metadata": {},
   "outputs": [],
   "source": [
    "import numpy as np\n",
    "import pandas as pd\n",
    "import seaborn as sns\n",
    "import matplotlib.pyplot as plt\n",
    "from sklearn.linear_model import LinearRegression\n",
    "from sklearn.linear_model import LogisticRegression\n",
    "from sklearn.model_selection import train_test_split\n",
    "from sklearn.metrics import mean_squared_error, r2_score\n",
    "\n",
    "# 1. **Load & Prepare the Titanic data**\n",
    "# Your Code Here\n",
    "df=pd.Read_csv('titanic.csv')\n",
    "df"
   ]
  },
  {
   "cell_type": "code",
   "execution_count": null,
   "id": "0796013c",
   "metadata": {},
   "outputs": [],
   "source": [
    "# 2. **Train/Test Split** (70/30)\n",
    "# Your Code Here"
   ]
  },
  {
   "cell_type": "code",
   "execution_count": null,
   "id": "218cc0f6",
   "metadata": {},
   "outputs": [],
   "source": [
    "# 3. **Scale Features** (optional but can help)\n",
    "# Your Code Here"
   ]
  },
  {
   "cell_type": "code",
   "execution_count": null,
   "id": "b06f6313",
   "metadata": {},
   "outputs": [],
   "source": [
    "# 4. **Fit** a `DecisionTreeClassifier`\n",
    "# Your Code Here"
   ]
  },
  {
   "cell_type": "code",
   "execution_count": null,
   "id": "b2a26242",
   "metadata": {},
   "outputs": [],
   "source": [
    "# 5. **Predict & Evaluate**\n",
    "# Your Code Here"
   ]
  },
  {
   "cell_type": "code",
   "execution_count": null,
   "id": "242cab9d",
   "metadata": {},
   "outputs": [],
   "source": [
    "# 6. **Visualize the Tree**\n",
    "# Your Code Here"
   ]
  },
  {
   "cell_type": "markdown",
   "id": "b4656d53",
   "metadata": {},
   "source": [
    "### Interpretation Questions\n",
    "\n",
    "* Which splits (age or fare thresholds) does the tree use to decide survival?\n",
    "* How does model complexity (tree depth) affect accuracy and overfitting?\n",
    "* Does the ROC curve show good discrimination?\n",
    "\n",
    "---\n",
    "\n",
    "## Submission\n",
    "\n",
    "* A Jupyter Notebook containing:\n",
    "\n",
    "  * All code, outputs, and plots\n",
    "  * Answers to interpretation questions\n",
    "* A short summary (2–3 sentences) comparing the regression vs. classification trees and discussing when you’d choose each."
   ]
  }
 ],
 "metadata": {
  "kernelspec": {
   "display_name": "Python 3 (ipykernel)",
   "language": "python",
   "name": "python3"
  },
  "language_info": {
   "codemirror_mode": {
    "name": "ipython",
    "version": 3
   },
   "file_extension": ".py",
   "mimetype": "text/x-python",
   "name": "python",
   "nbconvert_exporter": "python",
   "pygments_lexer": "ipython3",
   "version": "3.13.2"
  }
 },
 "nbformat": 4,
 "nbformat_minor": 5
}
